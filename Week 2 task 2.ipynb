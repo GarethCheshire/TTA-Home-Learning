def function1(input_year, input_value):
    year = input_year
    value = input_value
    while value > 999:
        print ("For year ", year)
        print ("The current motorbike value is: ", value)
        value *= 0.9
        year += 1

    return print

year = int(input("How many years old is the motorbike? "))
value  = int(input("What is the value of the motorbike? "))

function1(year, value)





