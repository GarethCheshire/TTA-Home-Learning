number_1 = int(input("Enter your first number: "))
number_2 = int(input("Enter your second number: "))
operation = (input("Choose an operation: add, subtract, multiply, divide or square: "))
if operation == "add":
    print (number_1 + number_2)
elif operation == "subtract":
    print (number_1 - number_2)
elif operation == "multiply":
    print (number_1 * number_2)
elif operation == "divide":
    print (number_1/number_2)
elif operation == "square":
    print (number_1 ** number_2)
else:
    print ("Please choose a correct operation.")