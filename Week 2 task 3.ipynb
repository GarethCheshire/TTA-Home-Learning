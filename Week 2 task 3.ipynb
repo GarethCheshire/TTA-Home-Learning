def procedure1 (input_number1, input_number2, input_operation):
    if operation == "add":
        print (number1 + number2)
    elif operation == "subtract":
        print (number1 - number2)
    elif operation == "multiply":
        print (number1 * number2)
    elif operation == "divide":
        print (number1/number2)
    elif operation == "power":
        print (number1 ** number2)
    else:
        print ("Please choose a correct operation.")

number1 = int(input("Enter your first number: "))
number2 = int(input("Enter your second number: "))
operation = (input("Choose an operation: add, subtract, multiply, divide or power: "))

procedure1 (number1, number2, operation)

