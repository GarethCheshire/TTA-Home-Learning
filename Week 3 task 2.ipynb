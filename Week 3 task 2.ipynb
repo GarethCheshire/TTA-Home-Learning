num1 = 85
num2 = 75
num3 = 65
num4 = 55
num5 = 1
num6 = 100
percentage = int(input ("What is your percentage mark? Please select 1 to 100: "))
if percentage >= num1 and percentage <= num6:
    print ("You have achieved an A. Awesome acheivement! Top of the class!!!")
elif percentage >= num2 and percentage < num1:
    print ("You have achieved a B. Congratulations, keep up the hard work!")
elif percentage >= num3 and percentage < num2:
    print ("You have achieved a C. Great work, see if you can achieve higher next time.")
elif percentage >= num4 and percentage < num3:
    print ("You have achieved a D. You have passed, see if you can score a higher mark next time though.")
elif percentage < num5 or percentage > num6:
    print ("Please enter a valid percentage.")
else:
    print ("Unfortunately, you have not scored high enough to pass. Better luck next time.")

    