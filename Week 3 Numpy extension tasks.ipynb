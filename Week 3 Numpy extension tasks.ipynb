import numpy as np
print ("Extension Task 1: ")

array1 = np.repeat (a = [1, 2, 3], repeats = 3)
list1 = [1, 2, 3]
list2 = array1.tolist ()
print (list2 + list1 + list1 + list1)


print ("Extension Task 2: ")

a = np.array ([1, 2, 3, 4, 5])
b = np.array ([4, 5, 6, 7, 8, 9])
c = (np.concatenate ([a, b]))

print (np.unique ([c]))


print ("Extension Task 3: ")

a = np.array ([1, 2, 3, 4, 5])
b = np.array ([4, 5, 6, 7, 8, 9])

sum1 = np.sum (a [4:7])
sum2 = np.sum (b [4:7])

print (sum1 + sum2)

