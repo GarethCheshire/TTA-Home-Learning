my_file = open ("numbers.txt", "w")

my_file.write (str(13))

my_file.write ("\n")

my_file.write (str(18))

my_file.close ()

my_file = open ("numbers.txt", "a")

my_file.write ("\n")

my_file.write (str(73))

my_file.write ("\n")

my_file.write (str(89))

my_file.close ()

my_file = open ("numbers.txt", "r")

with open ("numbers.txt", "r") as my_file:
    data = my_file.read().replace ("\n", ",")

my_file.close ()

print (data)













